{
 "cells": [
  {
   "cell_type": "code",
   "execution_count": 1,
   "id": "8d0f7d63",
   "metadata": {
    "_cell_guid": "b1076dfc-b9ad-4769-8c92-a6c4dae69d19",
    "_uuid": "8f2839f25d086af736a60e9eeb907d3b93b6e0e5",
    "execution": {
     "iopub.execute_input": "2022-06-30T17:28:15.387450Z",
     "iopub.status.busy": "2022-06-30T17:28:15.386999Z",
     "iopub.status.idle": "2022-06-30T17:28:15.406001Z",
     "shell.execute_reply": "2022-06-30T17:28:15.405223Z"
    },
    "papermill": {
     "duration": 0.030674,
     "end_time": "2022-06-30T17:28:15.408763",
     "exception": false,
     "start_time": "2022-06-30T17:28:15.378089",
     "status": "completed"
    },
    "tags": []
   },
   "outputs": [],
   "source": [
    "# This Python 3 environment comes with many helpful analytics libraries installed\n",
    "# It is defined by the kaggle/python Docker image: https://github.com/kaggle/docker-python\n",
    "# For example, here's several helpful packages to load\n",
    "\n",
    "import numpy as np # linear algebra\n",
    "import pandas as pd # data processing, CSV file I/O (e.g. pd.read_csv)\n",
    "\n",
    "# Input data files are available in the read-only \"../input/\" directory\n",
    "# For example, running this (by clicking run or pressing Shift+Enter) will list all files under the input directory\n",
    "\n",
    "\n",
    "\n",
    "# You can write up to 20GB to the current directory (/kaggle/working/) that gets preserved as output when you create a version using \"Save & Run All\" \n",
    "# You can also write temporary files to /kaggle/temp/, but they won't be saved outside of the current session"
   ]
  },
  {
   "cell_type": "code",
   "execution_count": 2,
   "id": "51035237",
   "metadata": {
    "execution": {
     "iopub.execute_input": "2022-06-30T17:28:15.422970Z",
     "iopub.status.busy": "2022-06-30T17:28:15.421862Z",
     "iopub.status.idle": "2022-06-30T17:28:16.604990Z",
     "shell.execute_reply": "2022-06-30T17:28:16.603758Z"
    },
    "papermill": {
     "duration": 1.193046,
     "end_time": "2022-06-30T17:28:16.607878",
     "exception": false,
     "start_time": "2022-06-30T17:28:15.414832",
     "status": "completed"
    },
    "tags": []
   },
   "outputs": [],
   "source": [
    "import sklearn\n",
    "import matplotlib.pyplot as plt\n",
    "from sklearn.feature_extraction.text import CountVectorizer\n",
    "from sklearn.metrics import confusion_matrix\n",
    "from sklearn.model_selection import GridSearchCV\n",
    "from sklearn.model_selection import train_test_split\n",
    "from sklearn.model_selection import cross_val_score"
   ]
  },
  {
   "cell_type": "code",
   "execution_count": 3,
   "id": "6941f26f",
   "metadata": {
    "execution": {
     "iopub.execute_input": "2022-06-30T17:28:16.621906Z",
     "iopub.status.busy": "2022-06-30T17:28:16.621492Z",
     "iopub.status.idle": "2022-06-30T17:28:16.680056Z",
     "shell.execute_reply": "2022-06-30T17:28:16.678799Z"
    },
    "papermill": {
     "duration": 0.069016,
     "end_time": "2022-06-30T17:28:16.682870",
     "exception": false,
     "start_time": "2022-06-30T17:28:16.613854",
     "status": "completed"
    },
    "tags": []
   },
   "outputs": [],
   "source": [
    "df = pd.read_csv('Offensive/train_data.csv')"
   ]
  },
  {
   "cell_type": "code",
   "execution_count": 4,
   "id": "586a07bb",
   "metadata": {},
   "outputs": [
    {
     "data": {
      "text/html": [
       "<div>\n",
       "<style scoped>\n",
       "    .dataframe tbody tr th:only-of-type {\n",
       "        vertical-align: middle;\n",
       "    }\n",
       "\n",
       "    .dataframe tbody tr th {\n",
       "        vertical-align: top;\n",
       "    }\n",
       "\n",
       "    .dataframe thead th {\n",
       "        text-align: right;\n",
       "    }\n",
       "</style>\n",
       "<table border=\"1\" class=\"dataframe\">\n",
       "  <thead>\n",
       "    <tr style=\"text-align: right;\">\n",
       "      <th></th>\n",
       "      <th>comments</th>\n",
       "      <th>tagging</th>\n",
       "    </tr>\n",
       "  </thead>\n",
       "  <tbody>\n",
       "    <tr>\n",
       "      <th>0</th>\n",
       "      <td>Get fucking real dude.</td>\n",
       "      <td>1</td>\n",
       "    </tr>\n",
       "    <tr>\n",
       "      <th>1</th>\n",
       "      <td>She is as dirty as they come  and that crook ...</td>\n",
       "      <td>1</td>\n",
       "    </tr>\n",
       "    <tr>\n",
       "      <th>2</th>\n",
       "      <td>why did you fuck it up. I could do it all day...</td>\n",
       "      <td>1</td>\n",
       "    </tr>\n",
       "    <tr>\n",
       "      <th>3</th>\n",
       "      <td>Dude they dont finish enclosing the fucking s...</td>\n",
       "      <td>1</td>\n",
       "    </tr>\n",
       "    <tr>\n",
       "      <th>4</th>\n",
       "      <td>WTF are you talking about Men? No men thats n...</td>\n",
       "      <td>1</td>\n",
       "    </tr>\n",
       "    <tr>\n",
       "      <th>...</th>\n",
       "      <td>...</td>\n",
       "      <td>...</td>\n",
       "    </tr>\n",
       "    <tr>\n",
       "      <th>19996</th>\n",
       "      <td>I dont. But what is complaining about it goi...</td>\n",
       "      <td>0</td>\n",
       "    </tr>\n",
       "    <tr>\n",
       "      <th>19997</th>\n",
       "      <td>Bahah  yeah i&amp;;m totally just gonna&amp;; get pis...</td>\n",
       "      <td>0</td>\n",
       "    </tr>\n",
       "    <tr>\n",
       "      <th>19998</th>\n",
       "      <td>hahahahaha &gt;:) im evil mwahahahahahahahahaha</td>\n",
       "      <td>0</td>\n",
       "    </tr>\n",
       "    <tr>\n",
       "      <th>19999</th>\n",
       "      <td>What&amp;;s something unique about Ohio? :)</td>\n",
       "      <td>0</td>\n",
       "    </tr>\n",
       "    <tr>\n",
       "      <th>20000</th>\n",
       "      <td>Who is the biggest gossiper you know?</td>\n",
       "      <td>0</td>\n",
       "    </tr>\n",
       "  </tbody>\n",
       "</table>\n",
       "<p>20001 rows × 2 columns</p>\n",
       "</div>"
      ],
      "text/plain": [
       "                                                comments  tagging\n",
       "0                                 Get fucking real dude.        1\n",
       "1       She is as dirty as they come  and that crook ...        1\n",
       "2       why did you fuck it up. I could do it all day...        1\n",
       "3       Dude they dont finish enclosing the fucking s...        1\n",
       "4       WTF are you talking about Men? No men thats n...        1\n",
       "...                                                  ...      ...\n",
       "19996    I dont. But what is complaining about it goi...        0\n",
       "19997   Bahah  yeah i&;m totally just gonna&; get pis...        0\n",
       "19998       hahahahaha >:) im evil mwahahahahahahahahaha        0\n",
       "19999            What&;s something unique about Ohio? :)        0\n",
       "20000              Who is the biggest gossiper you know?        0\n",
       "\n",
       "[20001 rows x 2 columns]"
      ]
     },
     "execution_count": 4,
     "metadata": {},
     "output_type": "execute_result"
    }
   ],
   "source": [
    "df"
   ]
  },
  {
   "cell_type": "code",
   "execution_count": 5,
   "id": "b3867c0f",
   "metadata": {},
   "outputs": [],
   "source": [
    "df1 = pd.read_csv(\"Offensive/train.csv\")\n"
   ]
  },
  {
   "cell_type": "code",
   "execution_count": 6,
   "id": "7c77b956",
   "metadata": {},
   "outputs": [
    {
     "data": {
      "text/html": [
       "<div>\n",
       "<style scoped>\n",
       "    .dataframe tbody tr th:only-of-type {\n",
       "        vertical-align: middle;\n",
       "    }\n",
       "\n",
       "    .dataframe tbody tr th {\n",
       "        vertical-align: top;\n",
       "    }\n",
       "\n",
       "    .dataframe thead th {\n",
       "        text-align: right;\n",
       "    }\n",
       "</style>\n",
       "<table border=\"1\" class=\"dataframe\">\n",
       "  <thead>\n",
       "    <tr style=\"text-align: right;\">\n",
       "      <th></th>\n",
       "      <th>id</th>\n",
       "      <th>label</th>\n",
       "      <th>tweet</th>\n",
       "    </tr>\n",
       "  </thead>\n",
       "  <tbody>\n",
       "    <tr>\n",
       "      <th>0</th>\n",
       "      <td>1</td>\n",
       "      <td>0</td>\n",
       "      <td>@user when a father is dysfunctional and is s...</td>\n",
       "    </tr>\n",
       "    <tr>\n",
       "      <th>1</th>\n",
       "      <td>2</td>\n",
       "      <td>0</td>\n",
       "      <td>@user @user thanks for #lyft credit i can't us...</td>\n",
       "    </tr>\n",
       "    <tr>\n",
       "      <th>2</th>\n",
       "      <td>3</td>\n",
       "      <td>0</td>\n",
       "      <td>bihday your majesty</td>\n",
       "    </tr>\n",
       "    <tr>\n",
       "      <th>3</th>\n",
       "      <td>4</td>\n",
       "      <td>0</td>\n",
       "      <td>#model   i love u take with u all the time in ...</td>\n",
       "    </tr>\n",
       "    <tr>\n",
       "      <th>4</th>\n",
       "      <td>5</td>\n",
       "      <td>0</td>\n",
       "      <td>factsguide: society now    #motivation</td>\n",
       "    </tr>\n",
       "    <tr>\n",
       "      <th>...</th>\n",
       "      <td>...</td>\n",
       "      <td>...</td>\n",
       "      <td>...</td>\n",
       "    </tr>\n",
       "    <tr>\n",
       "      <th>31957</th>\n",
       "      <td>31958</td>\n",
       "      <td>0</td>\n",
       "      <td>ate @user isz that youuu?ðððððð...</td>\n",
       "    </tr>\n",
       "    <tr>\n",
       "      <th>31958</th>\n",
       "      <td>31959</td>\n",
       "      <td>0</td>\n",
       "      <td>to see nina turner on the airwaves trying to...</td>\n",
       "    </tr>\n",
       "    <tr>\n",
       "      <th>31959</th>\n",
       "      <td>31960</td>\n",
       "      <td>0</td>\n",
       "      <td>listening to sad songs on a monday morning otw...</td>\n",
       "    </tr>\n",
       "    <tr>\n",
       "      <th>31960</th>\n",
       "      <td>31961</td>\n",
       "      <td>1</td>\n",
       "      <td>@user #sikh #temple vandalised in in #calgary,...</td>\n",
       "    </tr>\n",
       "    <tr>\n",
       "      <th>31961</th>\n",
       "      <td>31962</td>\n",
       "      <td>0</td>\n",
       "      <td>thank you @user for you follow</td>\n",
       "    </tr>\n",
       "  </tbody>\n",
       "</table>\n",
       "<p>31962 rows × 3 columns</p>\n",
       "</div>"
      ],
      "text/plain": [
       "          id  label                                              tweet\n",
       "0          1      0   @user when a father is dysfunctional and is s...\n",
       "1          2      0  @user @user thanks for #lyft credit i can't us...\n",
       "2          3      0                                bihday your majesty\n",
       "3          4      0  #model   i love u take with u all the time in ...\n",
       "4          5      0             factsguide: society now    #motivation\n",
       "...      ...    ...                                                ...\n",
       "31957  31958      0  ate @user isz that youuu?ðððððð...\n",
       "31958  31959      0    to see nina turner on the airwaves trying to...\n",
       "31959  31960      0  listening to sad songs on a monday morning otw...\n",
       "31960  31961      1  @user #sikh #temple vandalised in in #calgary,...\n",
       "31961  31962      0                   thank you @user for you follow  \n",
       "\n",
       "[31962 rows x 3 columns]"
      ]
     },
     "execution_count": 6,
     "metadata": {},
     "output_type": "execute_result"
    }
   ],
   "source": [
    "df1"
   ]
  },
  {
   "cell_type": "code",
   "execution_count": 7,
   "id": "d2dc4494",
   "metadata": {},
   "outputs": [],
   "source": [
    "df1 = df1[['tweet','label']].copy()"
   ]
  },
  {
   "cell_type": "code",
   "execution_count": 8,
   "id": "98492ed6",
   "metadata": {},
   "outputs": [],
   "source": [
    "df1.rename(columns = {'tweet' : 'comments', 'label' : 'tagging'}, inplace = True)"
   ]
  },
  {
   "cell_type": "code",
   "execution_count": 9,
   "id": "a61cd89f",
   "metadata": {},
   "outputs": [],
   "source": [
    "df_Offensive = pd.read_csv(\"Offensive/labeled_data.csv\")"
   ]
  },
  {
   "cell_type": "code",
   "execution_count": 10,
   "id": "e3c8c159",
   "metadata": {},
   "outputs": [
    {
     "data": {
      "text/html": [
       "<div>\n",
       "<style scoped>\n",
       "    .dataframe tbody tr th:only-of-type {\n",
       "        vertical-align: middle;\n",
       "    }\n",
       "\n",
       "    .dataframe tbody tr th {\n",
       "        vertical-align: top;\n",
       "    }\n",
       "\n",
       "    .dataframe thead th {\n",
       "        text-align: right;\n",
       "    }\n",
       "</style>\n",
       "<table border=\"1\" class=\"dataframe\">\n",
       "  <thead>\n",
       "    <tr style=\"text-align: right;\">\n",
       "      <th></th>\n",
       "      <th>Unnamed: 0</th>\n",
       "      <th>count</th>\n",
       "      <th>hate_speech</th>\n",
       "      <th>offensive_language</th>\n",
       "      <th>neither</th>\n",
       "      <th>class</th>\n",
       "      <th>tweet</th>\n",
       "    </tr>\n",
       "  </thead>\n",
       "  <tbody>\n",
       "    <tr>\n",
       "      <th>0</th>\n",
       "      <td>0</td>\n",
       "      <td>3</td>\n",
       "      <td>0</td>\n",
       "      <td>0</td>\n",
       "      <td>3</td>\n",
       "      <td>2</td>\n",
       "      <td>!!! RT @mayasolovely: As a woman you shouldn't...</td>\n",
       "    </tr>\n",
       "    <tr>\n",
       "      <th>1</th>\n",
       "      <td>1</td>\n",
       "      <td>3</td>\n",
       "      <td>0</td>\n",
       "      <td>3</td>\n",
       "      <td>0</td>\n",
       "      <td>1</td>\n",
       "      <td>!!!!! RT @mleew17: boy dats cold...tyga dwn ba...</td>\n",
       "    </tr>\n",
       "    <tr>\n",
       "      <th>2</th>\n",
       "      <td>2</td>\n",
       "      <td>3</td>\n",
       "      <td>0</td>\n",
       "      <td>3</td>\n",
       "      <td>0</td>\n",
       "      <td>1</td>\n",
       "      <td>!!!!!!! RT @UrKindOfBrand Dawg!!!! RT @80sbaby...</td>\n",
       "    </tr>\n",
       "    <tr>\n",
       "      <th>3</th>\n",
       "      <td>3</td>\n",
       "      <td>3</td>\n",
       "      <td>0</td>\n",
       "      <td>2</td>\n",
       "      <td>1</td>\n",
       "      <td>1</td>\n",
       "      <td>!!!!!!!!! RT @C_G_Anderson: @viva_based she lo...</td>\n",
       "    </tr>\n",
       "    <tr>\n",
       "      <th>4</th>\n",
       "      <td>4</td>\n",
       "      <td>6</td>\n",
       "      <td>0</td>\n",
       "      <td>6</td>\n",
       "      <td>0</td>\n",
       "      <td>1</td>\n",
       "      <td>!!!!!!!!!!!!! RT @ShenikaRoberts: The shit you...</td>\n",
       "    </tr>\n",
       "    <tr>\n",
       "      <th>...</th>\n",
       "      <td>...</td>\n",
       "      <td>...</td>\n",
       "      <td>...</td>\n",
       "      <td>...</td>\n",
       "      <td>...</td>\n",
       "      <td>...</td>\n",
       "      <td>...</td>\n",
       "    </tr>\n",
       "    <tr>\n",
       "      <th>24778</th>\n",
       "      <td>25291</td>\n",
       "      <td>3</td>\n",
       "      <td>0</td>\n",
       "      <td>2</td>\n",
       "      <td>1</td>\n",
       "      <td>1</td>\n",
       "      <td>you's a muthaf***in lie &amp;#8220;@LifeAsKing: @2...</td>\n",
       "    </tr>\n",
       "    <tr>\n",
       "      <th>24779</th>\n",
       "      <td>25292</td>\n",
       "      <td>3</td>\n",
       "      <td>0</td>\n",
       "      <td>1</td>\n",
       "      <td>2</td>\n",
       "      <td>2</td>\n",
       "      <td>you've gone and broke the wrong heart baby, an...</td>\n",
       "    </tr>\n",
       "    <tr>\n",
       "      <th>24780</th>\n",
       "      <td>25294</td>\n",
       "      <td>3</td>\n",
       "      <td>0</td>\n",
       "      <td>3</td>\n",
       "      <td>0</td>\n",
       "      <td>1</td>\n",
       "      <td>young buck wanna eat!!.. dat nigguh like I ain...</td>\n",
       "    </tr>\n",
       "    <tr>\n",
       "      <th>24781</th>\n",
       "      <td>25295</td>\n",
       "      <td>6</td>\n",
       "      <td>0</td>\n",
       "      <td>6</td>\n",
       "      <td>0</td>\n",
       "      <td>1</td>\n",
       "      <td>youu got wild bitches tellin you lies</td>\n",
       "    </tr>\n",
       "    <tr>\n",
       "      <th>24782</th>\n",
       "      <td>25296</td>\n",
       "      <td>3</td>\n",
       "      <td>0</td>\n",
       "      <td>0</td>\n",
       "      <td>3</td>\n",
       "      <td>2</td>\n",
       "      <td>~~Ruffled | Ntac Eileen Dahlia - Beautiful col...</td>\n",
       "    </tr>\n",
       "  </tbody>\n",
       "</table>\n",
       "<p>24783 rows × 7 columns</p>\n",
       "</div>"
      ],
      "text/plain": [
       "       Unnamed: 0  count  hate_speech  offensive_language  neither  class  \\\n",
       "0               0      3            0                   0        3      2   \n",
       "1               1      3            0                   3        0      1   \n",
       "2               2      3            0                   3        0      1   \n",
       "3               3      3            0                   2        1      1   \n",
       "4               4      6            0                   6        0      1   \n",
       "...           ...    ...          ...                 ...      ...    ...   \n",
       "24778       25291      3            0                   2        1      1   \n",
       "24779       25292      3            0                   1        2      2   \n",
       "24780       25294      3            0                   3        0      1   \n",
       "24781       25295      6            0                   6        0      1   \n",
       "24782       25296      3            0                   0        3      2   \n",
       "\n",
       "                                                   tweet  \n",
       "0      !!! RT @mayasolovely: As a woman you shouldn't...  \n",
       "1      !!!!! RT @mleew17: boy dats cold...tyga dwn ba...  \n",
       "2      !!!!!!! RT @UrKindOfBrand Dawg!!!! RT @80sbaby...  \n",
       "3      !!!!!!!!! RT @C_G_Anderson: @viva_based she lo...  \n",
       "4      !!!!!!!!!!!!! RT @ShenikaRoberts: The shit you...  \n",
       "...                                                  ...  \n",
       "24778  you's a muthaf***in lie &#8220;@LifeAsKing: @2...  \n",
       "24779  you've gone and broke the wrong heart baby, an...  \n",
       "24780  young buck wanna eat!!.. dat nigguh like I ain...  \n",
       "24781              youu got wild bitches tellin you lies  \n",
       "24782  ~~Ruffled | Ntac Eileen Dahlia - Beautiful col...  \n",
       "\n",
       "[24783 rows x 7 columns]"
      ]
     },
     "execution_count": 10,
     "metadata": {},
     "output_type": "execute_result"
    }
   ],
   "source": [
    "df_Offensive"
   ]
  },
  {
   "cell_type": "code",
   "execution_count": 11,
   "id": "7a8cf1d9",
   "metadata": {},
   "outputs": [],
   "source": [
    "df_Offensive = df_Offensive[['tweet','class']].copy()"
   ]
  },
  {
   "cell_type": "code",
   "execution_count": 12,
   "id": "b3f7cdb8",
   "metadata": {},
   "outputs": [
    {
     "data": {
      "text/html": [
       "<div>\n",
       "<style scoped>\n",
       "    .dataframe tbody tr th:only-of-type {\n",
       "        vertical-align: middle;\n",
       "    }\n",
       "\n",
       "    .dataframe tbody tr th {\n",
       "        vertical-align: top;\n",
       "    }\n",
       "\n",
       "    .dataframe thead th {\n",
       "        text-align: right;\n",
       "    }\n",
       "</style>\n",
       "<table border=\"1\" class=\"dataframe\">\n",
       "  <thead>\n",
       "    <tr style=\"text-align: right;\">\n",
       "      <th></th>\n",
       "      <th>tweet</th>\n",
       "      <th>class</th>\n",
       "    </tr>\n",
       "  </thead>\n",
       "  <tbody>\n",
       "    <tr>\n",
       "      <th>0</th>\n",
       "      <td>!!! RT @mayasolovely: As a woman you shouldn't...</td>\n",
       "      <td>2</td>\n",
       "    </tr>\n",
       "    <tr>\n",
       "      <th>1</th>\n",
       "      <td>!!!!! RT @mleew17: boy dats cold...tyga dwn ba...</td>\n",
       "      <td>1</td>\n",
       "    </tr>\n",
       "    <tr>\n",
       "      <th>2</th>\n",
       "      <td>!!!!!!! RT @UrKindOfBrand Dawg!!!! RT @80sbaby...</td>\n",
       "      <td>1</td>\n",
       "    </tr>\n",
       "    <tr>\n",
       "      <th>3</th>\n",
       "      <td>!!!!!!!!! RT @C_G_Anderson: @viva_based she lo...</td>\n",
       "      <td>1</td>\n",
       "    </tr>\n",
       "    <tr>\n",
       "      <th>4</th>\n",
       "      <td>!!!!!!!!!!!!! RT @ShenikaRoberts: The shit you...</td>\n",
       "      <td>1</td>\n",
       "    </tr>\n",
       "  </tbody>\n",
       "</table>\n",
       "</div>"
      ],
      "text/plain": [
       "                                               tweet  class\n",
       "0  !!! RT @mayasolovely: As a woman you shouldn't...      2\n",
       "1  !!!!! RT @mleew17: boy dats cold...tyga dwn ba...      1\n",
       "2  !!!!!!! RT @UrKindOfBrand Dawg!!!! RT @80sbaby...      1\n",
       "3  !!!!!!!!! RT @C_G_Anderson: @viva_based she lo...      1\n",
       "4  !!!!!!!!!!!!! RT @ShenikaRoberts: The shit you...      1"
      ]
     },
     "execution_count": 12,
     "metadata": {},
     "output_type": "execute_result"
    }
   ],
   "source": [
    "df_Offensive.head()"
   ]
  },
  {
   "cell_type": "code",
   "execution_count": 13,
   "id": "b74d370d",
   "metadata": {},
   "outputs": [
    {
     "name": "stdout",
     "output_type": "stream",
     "text": [
      "1430\n",
      "19190\n",
      "4163\n"
     ]
    }
   ],
   "source": [
    "print(sum(df_Offensive[\"class\"]==0))\n",
    "print(sum(df_Offensive[\"class\"]==1))\n",
    "print(sum(df_Offensive[\"class\"]==2))"
   ]
  },
  {
   "cell_type": "code",
   "execution_count": 14,
   "id": "21e345a5",
   "metadata": {},
   "outputs": [],
   "source": [
    "#df_Offensive[df_Offensive[\"class\"]==0][\"class\"] = 1\n",
    "df_Offensive.loc[(df_Offensive['class'] == 0), 'class'] = 1"
   ]
  },
  {
   "cell_type": "code",
   "execution_count": 15,
   "id": "ccffc979",
   "metadata": {},
   "outputs": [],
   "source": [
    "#df_Offensive[df_Offensive[\"class\"]==2][\"class\"] = 0\n",
    "df_Offensive.loc[(df_Offensive['class'] == 2), 'class'] = 0"
   ]
  },
  {
   "cell_type": "code",
   "execution_count": 16,
   "id": "6350d73b",
   "metadata": {},
   "outputs": [
    {
     "name": "stdout",
     "output_type": "stream",
     "text": [
      "4163\n",
      "20620\n",
      "0\n"
     ]
    }
   ],
   "source": [
    "print(sum(df_Offensive[\"class\"]==0))\n",
    "print(sum(df_Offensive[\"class\"]==1))\n",
    "print(sum(df_Offensive[\"class\"]==2))"
   ]
  },
  {
   "cell_type": "code",
   "execution_count": 17,
   "id": "7f08e3c9",
   "metadata": {},
   "outputs": [],
   "source": [
    "df_Offensive.rename(columns = {'tweet' : 'comments', 'class' : 'tagging'}, inplace = True)"
   ]
  },
  {
   "cell_type": "code",
   "execution_count": 18,
   "id": "7d1b0bf1",
   "metadata": {},
   "outputs": [],
   "source": [
    "df = pd.concat([df, df1], ignore_index=True)"
   ]
  },
  {
   "cell_type": "code",
   "execution_count": 19,
   "id": "1b9ee9ef",
   "metadata": {},
   "outputs": [],
   "source": [
    "df = pd.concat([df, df_Offensive], ignore_index=True)\n"
   ]
  },
  {
   "cell_type": "code",
   "execution_count": 20,
   "id": "c4adfe75",
   "metadata": {},
   "outputs": [
    {
     "data": {
      "text/html": [
       "<div>\n",
       "<style scoped>\n",
       "    .dataframe tbody tr th:only-of-type {\n",
       "        vertical-align: middle;\n",
       "    }\n",
       "\n",
       "    .dataframe tbody tr th {\n",
       "        vertical-align: top;\n",
       "    }\n",
       "\n",
       "    .dataframe thead th {\n",
       "        text-align: right;\n",
       "    }\n",
       "</style>\n",
       "<table border=\"1\" class=\"dataframe\">\n",
       "  <thead>\n",
       "    <tr style=\"text-align: right;\">\n",
       "      <th></th>\n",
       "      <th>comments</th>\n",
       "      <th>tagging</th>\n",
       "    </tr>\n",
       "  </thead>\n",
       "  <tbody>\n",
       "    <tr>\n",
       "      <th>0</th>\n",
       "      <td>!!! RT @mayasolovely: As a woman you shouldn't...</td>\n",
       "      <td>0</td>\n",
       "    </tr>\n",
       "    <tr>\n",
       "      <th>1</th>\n",
       "      <td>!!!!! RT @mleew17: boy dats cold...tyga dwn ba...</td>\n",
       "      <td>1</td>\n",
       "    </tr>\n",
       "    <tr>\n",
       "      <th>2</th>\n",
       "      <td>!!!!!!! RT @UrKindOfBrand Dawg!!!! RT @80sbaby...</td>\n",
       "      <td>1</td>\n",
       "    </tr>\n",
       "    <tr>\n",
       "      <th>3</th>\n",
       "      <td>!!!!!!!!! RT @C_G_Anderson: @viva_based she lo...</td>\n",
       "      <td>1</td>\n",
       "    </tr>\n",
       "    <tr>\n",
       "      <th>4</th>\n",
       "      <td>!!!!!!!!!!!!! RT @ShenikaRoberts: The shit you...</td>\n",
       "      <td>1</td>\n",
       "    </tr>\n",
       "    <tr>\n",
       "      <th>...</th>\n",
       "      <td>...</td>\n",
       "      <td>...</td>\n",
       "    </tr>\n",
       "    <tr>\n",
       "      <th>24778</th>\n",
       "      <td>you's a muthaf***in lie &amp;#8220;@LifeAsKing: @2...</td>\n",
       "      <td>1</td>\n",
       "    </tr>\n",
       "    <tr>\n",
       "      <th>24779</th>\n",
       "      <td>you've gone and broke the wrong heart baby, an...</td>\n",
       "      <td>0</td>\n",
       "    </tr>\n",
       "    <tr>\n",
       "      <th>24780</th>\n",
       "      <td>young buck wanna eat!!.. dat nigguh like I ain...</td>\n",
       "      <td>1</td>\n",
       "    </tr>\n",
       "    <tr>\n",
       "      <th>24781</th>\n",
       "      <td>youu got wild bitches tellin you lies</td>\n",
       "      <td>1</td>\n",
       "    </tr>\n",
       "    <tr>\n",
       "      <th>24782</th>\n",
       "      <td>~~Ruffled | Ntac Eileen Dahlia - Beautiful col...</td>\n",
       "      <td>0</td>\n",
       "    </tr>\n",
       "  </tbody>\n",
       "</table>\n",
       "<p>24783 rows × 2 columns</p>\n",
       "</div>"
      ],
      "text/plain": [
       "                                                comments  tagging\n",
       "0      !!! RT @mayasolovely: As a woman you shouldn't...        0\n",
       "1      !!!!! RT @mleew17: boy dats cold...tyga dwn ba...        1\n",
       "2      !!!!!!! RT @UrKindOfBrand Dawg!!!! RT @80sbaby...        1\n",
       "3      !!!!!!!!! RT @C_G_Anderson: @viva_based she lo...        1\n",
       "4      !!!!!!!!!!!!! RT @ShenikaRoberts: The shit you...        1\n",
       "...                                                  ...      ...\n",
       "24778  you's a muthaf***in lie &#8220;@LifeAsKing: @2...        1\n",
       "24779  you've gone and broke the wrong heart baby, an...        0\n",
       "24780  young buck wanna eat!!.. dat nigguh like I ain...        1\n",
       "24781              youu got wild bitches tellin you lies        1\n",
       "24782  ~~Ruffled | Ntac Eileen Dahlia - Beautiful col...        0\n",
       "\n",
       "[24783 rows x 2 columns]"
      ]
     },
     "execution_count": 20,
     "metadata": {},
     "output_type": "execute_result"
    }
   ],
   "source": [
    "df_Offensive"
   ]
  },
  {
   "cell_type": "code",
   "execution_count": 21,
   "id": "07a744f3",
   "metadata": {},
   "outputs": [],
   "source": [
    "df_Offensive = pd.DataFrame(df_Offensive, columns=['Name', 'Marks'])"
   ]
  },
  {
   "cell_type": "code",
   "execution_count": 22,
   "id": "584da0e6",
   "metadata": {},
   "outputs": [
    {
     "data": {
      "text/html": [
       "<div>\n",
       "<style scoped>\n",
       "    .dataframe tbody tr th:only-of-type {\n",
       "        vertical-align: middle;\n",
       "    }\n",
       "\n",
       "    .dataframe tbody tr th {\n",
       "        vertical-align: top;\n",
       "    }\n",
       "\n",
       "    .dataframe thead th {\n",
       "        text-align: right;\n",
       "    }\n",
       "</style>\n",
       "<table border=\"1\" class=\"dataframe\">\n",
       "  <thead>\n",
       "    <tr style=\"text-align: right;\">\n",
       "      <th></th>\n",
       "      <th>comments</th>\n",
       "      <th>tagging</th>\n",
       "    </tr>\n",
       "  </thead>\n",
       "  <tbody>\n",
       "    <tr>\n",
       "      <th>0</th>\n",
       "      <td>Get fucking real dude.</td>\n",
       "      <td>1</td>\n",
       "    </tr>\n",
       "    <tr>\n",
       "      <th>1</th>\n",
       "      <td>She is as dirty as they come  and that crook ...</td>\n",
       "      <td>1</td>\n",
       "    </tr>\n",
       "    <tr>\n",
       "      <th>2</th>\n",
       "      <td>why did you fuck it up. I could do it all day...</td>\n",
       "      <td>1</td>\n",
       "    </tr>\n",
       "    <tr>\n",
       "      <th>3</th>\n",
       "      <td>Dude they dont finish enclosing the fucking s...</td>\n",
       "      <td>1</td>\n",
       "    </tr>\n",
       "    <tr>\n",
       "      <th>4</th>\n",
       "      <td>WTF are you talking about Men? No men thats n...</td>\n",
       "      <td>1</td>\n",
       "    </tr>\n",
       "    <tr>\n",
       "      <th>...</th>\n",
       "      <td>...</td>\n",
       "      <td>...</td>\n",
       "    </tr>\n",
       "    <tr>\n",
       "      <th>76741</th>\n",
       "      <td>you's a muthaf***in lie &amp;#8220;@LifeAsKing: @2...</td>\n",
       "      <td>1</td>\n",
       "    </tr>\n",
       "    <tr>\n",
       "      <th>76742</th>\n",
       "      <td>you've gone and broke the wrong heart baby, an...</td>\n",
       "      <td>0</td>\n",
       "    </tr>\n",
       "    <tr>\n",
       "      <th>76743</th>\n",
       "      <td>young buck wanna eat!!.. dat nigguh like I ain...</td>\n",
       "      <td>1</td>\n",
       "    </tr>\n",
       "    <tr>\n",
       "      <th>76744</th>\n",
       "      <td>youu got wild bitches tellin you lies</td>\n",
       "      <td>1</td>\n",
       "    </tr>\n",
       "    <tr>\n",
       "      <th>76745</th>\n",
       "      <td>~~Ruffled | Ntac Eileen Dahlia - Beautiful col...</td>\n",
       "      <td>0</td>\n",
       "    </tr>\n",
       "  </tbody>\n",
       "</table>\n",
       "<p>76746 rows × 2 columns</p>\n",
       "</div>"
      ],
      "text/plain": [
       "                                                comments  tagging\n",
       "0                                 Get fucking real dude.        1\n",
       "1       She is as dirty as they come  and that crook ...        1\n",
       "2       why did you fuck it up. I could do it all day...        1\n",
       "3       Dude they dont finish enclosing the fucking s...        1\n",
       "4       WTF are you talking about Men? No men thats n...        1\n",
       "...                                                  ...      ...\n",
       "76741  you's a muthaf***in lie &#8220;@LifeAsKing: @2...        1\n",
       "76742  you've gone and broke the wrong heart baby, an...        0\n",
       "76743  young buck wanna eat!!.. dat nigguh like I ain...        1\n",
       "76744              youu got wild bitches tellin you lies        1\n",
       "76745  ~~Ruffled | Ntac Eileen Dahlia - Beautiful col...        0\n",
       "\n",
       "[76746 rows x 2 columns]"
      ]
     },
     "execution_count": 22,
     "metadata": {},
     "output_type": "execute_result"
    }
   ],
   "source": [
    "df"
   ]
  },
  {
   "cell_type": "code",
   "execution_count": 23,
   "id": "9e0bade3",
   "metadata": {},
   "outputs": [
    {
     "data": {
      "text/plain": [
       "False"
      ]
     },
     "execution_count": 23,
     "metadata": {},
     "output_type": "execute_result"
    }
   ],
   "source": [
    "df.isnull().values.any()"
   ]
  },
  {
   "cell_type": "code",
   "execution_count": 24,
   "id": "bdb28b03",
   "metadata": {},
   "outputs": [
    {
     "data": {
      "text/plain": [
       "comments    0\n",
       "tagging     0\n",
       "dtype: int64"
      ]
     },
     "execution_count": 24,
     "metadata": {},
     "output_type": "execute_result"
    }
   ],
   "source": [
    "df. isnull(). sum()"
   ]
  },
  {
   "cell_type": "code",
   "execution_count": 25,
   "id": "dbde08c7",
   "metadata": {},
   "outputs": [],
   "source": [
    "import re\n",
    "\n",
    "#set up punctuations we want to be replaced\n",
    "REPLACE_NO_SPACE = re.compile(\"(\\.)|(\\;)|(\\:)|(\\!)|(\\')|(\\?)|(\\,)|(\\\")|(\\|)|(\\()|(\\))|(\\[)|(\\])|(\\%)|(\\$)|(\\>)|(\\<)|(\\{)|(\\})\")\n",
    "REPLACE_WITH_SPACE = re.compile(\"(<br\\s/><br\\s/?)|(-)|(/)|(:).\")"
   ]
  },
  {
   "cell_type": "code",
   "execution_count": 26,
   "id": "d222f53b",
   "metadata": {},
   "outputs": [],
   "source": [
    "import preprocessor as p\n",
    "\n",
    "# custum function to clean the dataset (combining tweet_preprocessor and reguar expression)\n",
    "def clean_tweets(df):\n",
    "  tempArr = []\n",
    "  for line in df:\n",
    "    # send to tweet_processor\n",
    "    tmpL = p.clean(line)\n",
    "    # remove puctuation\n",
    "    tmpL = REPLACE_NO_SPACE.sub(\"\", tmpL.lower()) # convert all tweets to lower cases\n",
    "    tmpL = REPLACE_WITH_SPACE.sub(\" \", tmpL)\n",
    "    tempArr.append(tmpL)\n",
    "  return tempArr"
   ]
  },
  {
   "cell_type": "code",
   "execution_count": 27,
   "id": "c08e2090",
   "metadata": {},
   "outputs": [],
   "source": [
    "train_tweet = clean_tweets(df[\"comments\"])\n",
    "train_tweet = pd.DataFrame(train_tweet)"
   ]
  },
  {
   "cell_type": "code",
   "execution_count": 28,
   "id": "9ed87e6f",
   "metadata": {},
   "outputs": [],
   "source": [
    "df[\"comments\"] = train_tweet"
   ]
  },
  {
   "cell_type": "code",
   "execution_count": 29,
   "id": "2ff35760",
   "metadata": {
    "execution": {
     "iopub.execute_input": "2022-06-30T17:28:16.696969Z",
     "iopub.status.busy": "2022-06-30T17:28:16.696552Z",
     "iopub.status.idle": "2022-06-30T17:28:16.708602Z",
     "shell.execute_reply": "2022-06-30T17:28:16.707379Z"
    },
    "papermill": {
     "duration": 0.022208,
     "end_time": "2022-06-30T17:28:16.711384",
     "exception": false,
     "start_time": "2022-06-30T17:28:16.689176",
     "status": "completed"
    },
    "tags": []
   },
   "outputs": [],
   "source": [
    "from sklearn.model_selection import train_test_split\n",
    "X = df['comments']\n",
    "y = df['tagging']"
   ]
  },
  {
   "cell_type": "code",
   "execution_count": 30,
   "id": "9d0d55a9",
   "metadata": {},
   "outputs": [
    {
     "data": {
      "text/plain": [
       "0        1\n",
       "1        1\n",
       "2        1\n",
       "3        1\n",
       "4        1\n",
       "        ..\n",
       "76741    1\n",
       "76742    0\n",
       "76743    1\n",
       "76744    1\n",
       "76745    0\n",
       "Name: tagging, Length: 76746, dtype: int64"
      ]
     },
     "execution_count": 30,
     "metadata": {},
     "output_type": "execute_result"
    }
   ],
   "source": [
    "y"
   ]
  },
  {
   "cell_type": "code",
   "execution_count": 31,
   "id": "4c0b3d96",
   "metadata": {},
   "outputs": [
    {
     "data": {
      "text/plain": [
       "0                                    get fucking real dude\n",
       "1        she is as dirty as they come and that crook re...\n",
       "2        why did you fuck it up i could do it all day t...\n",
       "3        dude they dont finish enclosing the fucking sh...\n",
       "4        wtf are you talking about men no men thats not...\n",
       "                               ...                        \n",
       "76741    yous a muthaf***in lie & right his tl is trash...\n",
       "76742    youve gone and broke the wrong heart baby and ...\n",
       "76743    young buck wanna eat dat nigguh like i aint fu...\n",
       "76744                youu got wild bitches tellin you lies\n",
       "76745    ~~ruffled  ntac eileen dahlia   beautiful colo...\n",
       "Name: comments, Length: 76746, dtype: object"
      ]
     },
     "execution_count": 31,
     "metadata": {},
     "output_type": "execute_result"
    }
   ],
   "source": [
    "X"
   ]
  },
  {
   "cell_type": "code",
   "execution_count": 32,
   "id": "53810311",
   "metadata": {
    "execution": {
     "iopub.execute_input": "2022-06-30T17:28:16.725639Z",
     "iopub.status.busy": "2022-06-30T17:28:16.725247Z",
     "iopub.status.idle": "2022-06-30T17:28:16.734610Z",
     "shell.execute_reply": "2022-06-30T17:28:16.733664Z"
    },
    "papermill": {
     "duration": 0.019438,
     "end_time": "2022-06-30T17:28:16.736953",
     "exception": false,
     "start_time": "2022-06-30T17:28:16.717515",
     "status": "completed"
    },
    "tags": []
   },
   "outputs": [],
   "source": [
    "train_X,val_X,train_y,val_y=(train_test_split(X, y, random_state = 0,test_size=0.20))\n",
    "v_X=val_X"
   ]
  },
  {
   "cell_type": "code",
   "execution_count": 33,
   "id": "53615469",
   "metadata": {
    "execution": {
     "iopub.execute_input": "2022-06-30T17:28:16.752464Z",
     "iopub.status.busy": "2022-06-30T17:28:16.751161Z",
     "iopub.status.idle": "2022-06-30T17:28:16.756325Z",
     "shell.execute_reply": "2022-06-30T17:28:16.755195Z"
    },
    "papermill": {
     "duration": 0.015788,
     "end_time": "2022-06-30T17:28:16.759281",
     "exception": false,
     "start_time": "2022-06-30T17:28:16.743493",
     "status": "completed"
    },
    "tags": []
   },
   "outputs": [
    {
     "data": {
      "text/plain": [
       "61017                     famous women be the biggest hoes\n",
       "37509                                                 look\n",
       "65083                 my nigguhme naturally forever be fly\n",
       "62797    i really hate a fat bitch cause im bony love s...\n",
       "17912                                  i hate that so much\n",
       "                               ...                        \n",
       "21243    so to be performing tonight for alongside with...\n",
       "45891      away the century plant is presenting with buds \n",
       "42613                    apeezy   cloudy room listen below\n",
       "43567                                              the gun\n",
       "68268     cant no bitch tell me a nigga not mines until...\n",
       "Name: comments, Length: 61396, dtype: object"
      ]
     },
     "execution_count": 33,
     "metadata": {},
     "output_type": "execute_result"
    }
   ],
   "source": [
    "train_X"
   ]
  },
  {
   "cell_type": "code",
   "execution_count": 34,
   "id": "8b77a851",
   "metadata": {
    "execution": {
     "iopub.execute_input": "2022-06-30T17:28:16.775248Z",
     "iopub.status.busy": "2022-06-30T17:28:16.773995Z",
     "iopub.status.idle": "2022-06-30T17:28:16.778922Z",
     "shell.execute_reply": "2022-06-30T17:28:16.777627Z"
    },
    "papermill": {
     "duration": 0.015124,
     "end_time": "2022-06-30T17:28:16.781436",
     "exception": false,
     "start_time": "2022-06-30T17:28:16.766312",
     "status": "completed"
    },
    "tags": []
   },
   "outputs": [],
   "source": [
    "#output = pd.DataFrame({'comments': v_X , 'tagging': predictions})\n",
    "#output.to_csv('my_submission.csv', index=False)\n",
    "#print(\"Your submission was successfully saved!\")"
   ]
  },
  {
   "cell_type": "code",
   "execution_count": 35,
   "id": "a34e904a",
   "metadata": {
    "execution": {
     "iopub.execute_input": "2022-06-30T17:28:16.795887Z",
     "iopub.status.busy": "2022-06-30T17:28:16.795468Z",
     "iopub.status.idle": "2022-06-30T17:28:16.802788Z",
     "shell.execute_reply": "2022-06-30T17:28:16.801184Z"
    },
    "papermill": {
     "duration": 0.018034,
     "end_time": "2022-06-30T17:28:16.805785",
     "exception": false,
     "start_time": "2022-06-30T17:28:16.787751",
     "status": "completed"
    },
    "tags": []
   },
   "outputs": [
    {
     "name": "stdout",
     "output_type": "stream",
     "text": [
      "61017    famous women be the biggest hoes\n",
      "Name: comments, dtype: object\n"
     ]
    }
   ],
   "source": [
    "phrase = train_X.head(1)\n",
    "print(phrase)\n",
    "vect=CountVectorizer()"
   ]
  },
  {
   "cell_type": "code",
   "execution_count": 36,
   "id": "92702a73",
   "metadata": {
    "execution": {
     "iopub.execute_input": "2022-06-30T17:28:16.820836Z",
     "iopub.status.busy": "2022-06-30T17:28:16.819951Z",
     "iopub.status.idle": "2022-06-30T17:28:16.829067Z",
     "shell.execute_reply": "2022-06-30T17:28:16.827651Z"
    },
    "papermill": {
     "duration": 0.01938,
     "end_time": "2022-06-30T17:28:16.831677",
     "exception": false,
     "start_time": "2022-06-30T17:28:16.812297",
     "status": "completed"
    },
    "tags": []
   },
   "outputs": [
    {
     "name": "stdout",
     "output_type": "stream",
     "text": [
      "vocabulary size: 6\n",
      "vocabulary content:\n",
      " {'famous': 2, 'women': 5, 'be': 0, 'the': 4, 'biggest': 1, 'hoes': 3}\n"
     ]
    }
   ],
   "source": [
    "vect.fit(phrase)\n",
    "print(\"vocabulary size: {}\".format(len(vect.vocabulary_)))\n",
    "print(\"vocabulary content:\\n {}\".format(vect.vocabulary_))"
   ]
  },
  {
   "cell_type": "code",
   "execution_count": 37,
   "id": "6dd64f39",
   "metadata": {
    "execution": {
     "iopub.execute_input": "2022-06-30T17:28:16.847650Z",
     "iopub.status.busy": "2022-06-30T17:28:16.847032Z",
     "iopub.status.idle": "2022-06-30T17:28:16.854714Z",
     "shell.execute_reply": "2022-06-30T17:28:16.853333Z"
    },
    "papermill": {
     "duration": 0.018418,
     "end_time": "2022-06-30T17:28:16.857211",
     "exception": false,
     "start_time": "2022-06-30T17:28:16.838793",
     "status": "completed"
    },
    "tags": []
   },
   "outputs": [
    {
     "name": "stdout",
     "output_type": "stream",
     "text": [
      "  (0, 0)\t1\n",
      "  (0, 1)\t1\n",
      "  (0, 2)\t1\n",
      "  (0, 3)\t1\n",
      "  (0, 4)\t1\n",
      "  (0, 5)\t1\n"
     ]
    }
   ],
   "source": [
    "bag_of_words=vect.transform(phrase)\n",
    "print(bag_of_words)"
   ]
  },
  {
   "cell_type": "code",
   "execution_count": 38,
   "id": "36e50bbc",
   "metadata": {
    "execution": {
     "iopub.execute_input": "2022-06-30T17:28:16.874272Z",
     "iopub.status.busy": "2022-06-30T17:28:16.873591Z",
     "iopub.status.idle": "2022-06-30T17:28:16.880413Z",
     "shell.execute_reply": "2022-06-30T17:28:16.878813Z"
    },
    "papermill": {
     "duration": 0.019304,
     "end_time": "2022-06-30T17:28:16.884293",
     "exception": false,
     "start_time": "2022-06-30T17:28:16.864989",
     "status": "completed"
    },
    "tags": []
   },
   "outputs": [
    {
     "name": "stdout",
     "output_type": "stream",
     "text": [
      "bag_of_words as an array:\n",
      "[[1 1 1 1 1 1]]\n"
     ]
    }
   ],
   "source": [
    "print(\"bag_of_words as an array:\\n{}\".format(bag_of_words.toarray()))"
   ]
  },
  {
   "cell_type": "code",
   "execution_count": 39,
   "id": "6a478b67",
   "metadata": {
    "execution": {
     "iopub.execute_input": "2022-06-30T17:28:16.900291Z",
     "iopub.status.busy": "2022-06-30T17:28:16.899391Z",
     "iopub.status.idle": "2022-06-30T17:28:16.910534Z",
     "shell.execute_reply": "2022-06-30T17:28:16.908924Z"
    },
    "papermill": {
     "duration": 0.021735,
     "end_time": "2022-06-30T17:28:16.913216",
     "exception": false,
     "start_time": "2022-06-30T17:28:16.891481",
     "status": "completed"
    },
    "tags": []
   },
   "outputs": [
    {
     "name": "stderr",
     "output_type": "stream",
     "text": [
      "c:\\Users\\bhupeshbhatt\\AppData\\Local\\Programs\\Python\\Python310\\lib\\site-packages\\sklearn\\utils\\deprecation.py:87: FutureWarning: Function get_feature_names is deprecated; get_feature_names is deprecated in 1.0 and will be removed in 1.2. Please use get_feature_names_out instead.\n",
      "  warnings.warn(msg, category=FutureWarning)\n"
     ]
    },
    {
     "data": {
      "text/plain": [
       "['be', 'biggest', 'famous', 'hoes', 'the', 'women']"
      ]
     },
     "execution_count": 39,
     "metadata": {},
     "output_type": "execute_result"
    }
   ],
   "source": [
    "vect.get_feature_names()"
   ]
  },
  {
   "cell_type": "code",
   "execution_count": 40,
   "id": "b7afb1e5",
   "metadata": {
    "execution": {
     "iopub.execute_input": "2022-06-30T17:28:16.930008Z",
     "iopub.status.busy": "2022-06-30T17:28:16.929296Z",
     "iopub.status.idle": "2022-06-30T17:28:16.936637Z",
     "shell.execute_reply": "2022-06-30T17:28:16.935769Z"
    },
    "papermill": {
     "duration": 0.018584,
     "end_time": "2022-06-30T17:28:16.938917",
     "exception": false,
     "start_time": "2022-06-30T17:28:16.920333",
     "status": "completed"
    },
    "tags": []
   },
   "outputs": [
    {
     "data": {
      "text/plain": [
       "61017                     famous women be the biggest hoes\n",
       "37509                                                 look\n",
       "65083                 my nigguhme naturally forever be fly\n",
       "62797    i really hate a fat bitch cause im bony love s...\n",
       "17912                                  i hate that so much\n",
       "Name: comments, dtype: object"
      ]
     },
     "execution_count": 40,
     "metadata": {},
     "output_type": "execute_result"
    }
   ],
   "source": [
    "train_X.head()"
   ]
  },
  {
   "cell_type": "code",
   "execution_count": 41,
   "id": "7665064f",
   "metadata": {},
   "outputs": [
    {
     "data": {
      "text/plain": [
       "61017                     famous women be the biggest hoes\n",
       "37509                                                 look\n",
       "65083                 my nigguhme naturally forever be fly\n",
       "62797    i really hate a fat bitch cause im bony love s...\n",
       "17912                                  i hate that so much\n",
       "Name: comments, dtype: object"
      ]
     },
     "execution_count": 41,
     "metadata": {},
     "output_type": "execute_result"
    }
   ],
   "source": [
    "train_X.head()"
   ]
  },
  {
   "cell_type": "code",
   "execution_count": 42,
   "id": "2227f071",
   "metadata": {
    "execution": {
     "iopub.execute_input": "2022-06-30T17:28:16.955538Z",
     "iopub.status.busy": "2022-06-30T17:28:16.954948Z",
     "iopub.status.idle": "2022-06-30T17:28:17.371249Z",
     "shell.execute_reply": "2022-06-30T17:28:17.370020Z"
    },
    "papermill": {
     "duration": 0.428106,
     "end_time": "2022-06-30T17:28:17.374271",
     "exception": false,
     "start_time": "2022-06-30T17:28:16.946165",
     "status": "completed"
    },
    "tags": []
   },
   "outputs": [],
   "source": [
    "vectorizer = CountVectorizer()\n",
    "train_X = vectorizer.fit_transform(train_X)\n",
    "val_X = vectorizer.transform(val_X)"
   ]
  },
  {
   "cell_type": "code",
   "execution_count": 56,
   "id": "365ad401",
   "metadata": {},
   "outputs": [],
   "source": [
    "import pickle\n",
    "pickle.dump(vectorizer, open(\"cv.pickel\", \"wb\"))"
   ]
  },
  {
   "cell_type": "code",
   "execution_count": 44,
   "id": "45893adf",
   "metadata": {
    "execution": {
     "iopub.execute_input": "2022-06-30T17:28:17.391120Z",
     "iopub.status.busy": "2022-06-30T17:28:17.390225Z",
     "iopub.status.idle": "2022-06-30T17:28:17.404438Z",
     "shell.execute_reply": "2022-06-30T17:28:17.403354Z"
    },
    "papermill": {
     "duration": 0.025241,
     "end_time": "2022-06-30T17:28:17.406822",
     "exception": false,
     "start_time": "2022-06-30T17:28:17.381581",
     "status": "completed"
    },
    "tags": []
   },
   "outputs": [],
   "source": [
    "feature_names = vectorizer.get_feature_names()"
   ]
  },
  {
   "cell_type": "code",
   "execution_count": 45,
   "id": "a462a62c",
   "metadata": {
    "execution": {
     "iopub.execute_input": "2022-06-30T17:28:17.424167Z",
     "iopub.status.busy": "2022-06-30T17:28:17.423581Z",
     "iopub.status.idle": "2022-06-30T17:28:17.428896Z",
     "shell.execute_reply": "2022-06-30T17:28:17.428152Z"
    },
    "papermill": {
     "duration": 0.016354,
     "end_time": "2022-06-30T17:28:17.431008",
     "exception": false,
     "start_time": "2022-06-30T17:28:17.414654",
     "status": "completed"
    },
    "tags": []
   },
   "outputs": [
    {
     "data": {
      "text/plain": [
       "(61396, 37070)"
      ]
     },
     "execution_count": 45,
     "metadata": {},
     "output_type": "execute_result"
    }
   ],
   "source": [
    "train_X.shape"
   ]
  },
  {
   "cell_type": "code",
   "execution_count": 46,
   "id": "6dc81435",
   "metadata": {
    "execution": {
     "iopub.execute_input": "2022-06-30T17:28:17.448610Z",
     "iopub.status.busy": "2022-06-30T17:28:17.447884Z",
     "iopub.status.idle": "2022-06-30T17:30:48.248488Z",
     "shell.execute_reply": "2022-06-30T17:30:48.246781Z"
    },
    "papermill": {
     "duration": 150.812979,
     "end_time": "2022-06-30T17:30:48.251506",
     "exception": false,
     "start_time": "2022-06-30T17:28:17.438527",
     "status": "completed"
    },
    "tags": []
   },
   "outputs": [],
   "source": [
    "from sklearn.svm import SVC # \"Support vector classifier\"  \n",
    "model = SVC(kernel='linear', random_state=0,C=10)\n",
    "model.fit(train_X,train_y)\n",
    "predictions = model.predict(val_X)"
   ]
  },
  {
   "cell_type": "code",
   "execution_count": 57,
   "id": "014a34c2",
   "metadata": {},
   "outputs": [],
   "source": [
    "\n",
    "pickle.dump(model, open(\"lr.pickel\", \"wb\"))"
   ]
  },
  {
   "cell_type": "code",
   "execution_count": 48,
   "id": "3d448605",
   "metadata": {
    "execution": {
     "iopub.execute_input": "2022-06-30T17:30:48.269378Z",
     "iopub.status.busy": "2022-06-30T17:30:48.268921Z",
     "iopub.status.idle": "2022-06-30T17:30:48.296721Z",
     "shell.execute_reply": "2022-06-30T17:30:48.295532Z"
    },
    "papermill": {
     "duration": 0.039815,
     "end_time": "2022-06-30T17:30:48.299529",
     "exception": false,
     "start_time": "2022-06-30T17:30:48.259714",
     "status": "completed"
    },
    "tags": []
   },
   "outputs": [],
   "source": [
    "output = pd.DataFrame({'comments': v_X , 'tagging': predictions})\n",
    "output.to_csv('my_submission.csv', index=False)"
   ]
  },
  {
   "cell_type": "code",
   "execution_count": 49,
   "id": "cec5fb2e",
   "metadata": {
    "execution": {
     "iopub.execute_input": "2022-06-30T17:30:48.316902Z",
     "iopub.status.busy": "2022-06-30T17:30:48.316539Z",
     "iopub.status.idle": "2022-06-30T17:30:48.324806Z",
     "shell.execute_reply": "2022-06-30T17:30:48.323564Z"
    },
    "papermill": {
     "duration": 0.020021,
     "end_time": "2022-06-30T17:30:48.327341",
     "exception": false,
     "start_time": "2022-06-30T17:30:48.307320",
     "status": "completed"
    },
    "tags": []
   },
   "outputs": [
    {
     "name": "stdout",
     "output_type": "stream",
     "text": [
      "[[8298  944]\n",
      " [ 632 5476]]\n"
     ]
    }
   ],
   "source": [
    "confusion = confusion_matrix(val_y,predictions)\n",
    "print(confusion)"
   ]
  },
  {
   "cell_type": "code",
   "execution_count": 50,
   "id": "923c1015",
   "metadata": {
    "execution": {
     "iopub.execute_input": "2022-06-30T17:30:48.344861Z",
     "iopub.status.busy": "2022-06-30T17:30:48.344448Z",
     "iopub.status.idle": "2022-06-30T17:30:48.351579Z",
     "shell.execute_reply": "2022-06-30T17:30:48.350330Z"
    },
    "papermill": {
     "duration": 0.018367,
     "end_time": "2022-06-30T17:30:48.353765",
     "exception": false,
     "start_time": "2022-06-30T17:30:48.335398",
     "status": "completed"
    },
    "tags": []
   },
   "outputs": [
    {
     "name": "stdout",
     "output_type": "stream",
     "text": [
      "0.897328990228013\n"
     ]
    }
   ],
   "source": [
    "from sklearn.metrics import accuracy_score\n",
    "print(accuracy_score(val_y,predictions))"
   ]
  },
  {
   "cell_type": "code",
   "execution_count": 51,
   "id": "61ac0480",
   "metadata": {
    "execution": {
     "iopub.execute_input": "2022-06-30T17:30:48.400920Z",
     "iopub.status.busy": "2022-06-30T17:30:48.400213Z",
     "iopub.status.idle": "2022-06-30T17:30:48.407390Z",
     "shell.execute_reply": "2022-06-30T17:30:48.406530Z"
    },
    "papermill": {
     "duration": 0.018907,
     "end_time": "2022-06-30T17:30:48.409732",
     "exception": false,
     "start_time": "2022-06-30T17:30:48.390825",
     "status": "completed"
    },
    "tags": []
   },
   "outputs": [],
   "source": [
    "import matplotlib.pyplot as plt\n",
    "%matplotlib inline  "
   ]
  },
  {
   "cell_type": "code",
   "execution_count": 52,
   "id": "00658083",
   "metadata": {
    "execution": {
     "iopub.execute_input": "2022-06-30T17:30:48.428168Z",
     "iopub.status.busy": "2022-06-30T17:30:48.427456Z",
     "iopub.status.idle": "2022-06-30T17:30:48.434250Z",
     "shell.execute_reply": "2022-06-30T17:30:48.433332Z"
    },
    "papermill": {
     "duration": 0.018807,
     "end_time": "2022-06-30T17:30:48.436564",
     "exception": false,
     "start_time": "2022-06-30T17:30:48.417757",
     "status": "completed"
    },
    "tags": []
   },
   "outputs": [],
   "source": [
    "def plot_coefficients(classifier, feature_names, top_features=20):\n",
    " coef = classifier.coef_\n",
    " coef = coef.toarray()\n",
    " out = np.argsort(coef)\n",
    " coef = coef.transpose()\n",
    " out = out.transpose()[-100:]\n",
    " out = out[::-1]\n",
    " print(out.shape)\n",
    " out = out.transpose()\n",
    " #print(coef[out])\n",
    " feature_names = np.array(feature_names)\n",
    " print(feature_names[out])"
   ]
  },
  {
   "cell_type": "code",
   "execution_count": 53,
   "id": "99439bec",
   "metadata": {
    "execution": {
     "iopub.execute_input": "2022-06-30T17:30:48.455146Z",
     "iopub.status.busy": "2022-06-30T17:30:48.454367Z",
     "iopub.status.idle": "2022-06-30T17:30:48.472002Z",
     "shell.execute_reply": "2022-06-30T17:30:48.470749Z"
    },
    "papermill": {
     "duration": 0.029887,
     "end_time": "2022-06-30T17:30:48.474644",
     "exception": false,
     "start_time": "2022-06-30T17:30:48.444757",
     "status": "completed"
    },
    "tags": []
   },
   "outputs": [
    {
     "name": "stdout",
     "output_type": "stream",
     "text": [
      "(100, 1)\n",
      "[['bitchyall' 'casey' 'pussys' 'niggers' 'faggot' 'knob' 'intend'\n",
      "  'emopoor' 'fifteen' 'nigglet' 'hash' 'stewart' 'bitchsee' 'nigguh'\n",
      "  'hoes' 'rednecks' 'bitches' 'pussies' 'freakn' 'travelled' 'livesbut'\n",
      "  'barnicle' 'niggah' 'niccas' 'nigs' 'specifically' 'rinds' 'extremist'\n",
      "  'seventies' 'scurvy' 'faggots' 'reruns' 'dependent' 'nigger'\n",
      "  'sympathize' 'pussy' 'hoe' 'bitch' 'accusations' 'literary' 'ampe'\n",
      "  'reali' 'gingers' 'bsa' 'debacle' 'petous' 'dickbwaha' 'expes'\n",
      "  'intoxication' 'nig' 'dictionaries' 'amrica' 'coincidence' 'cunts'\n",
      "  'seller' 'omarosas' 'facilitate' 'documented' 'emos' 'fag' 'sturgeon'\n",
      "  'pos' 'censored' 'existence' 'binds' 'sayalso' 'constructive' 'festive'\n",
      "  'rengel' 'niglet' 'pecan' 'cboys' 'gradeschool' 'humiliated'\n",
      "  'strangely' 'caint' 'mf' 'mcnab' 'install' 'leakage' 'itas' 'rts'\n",
      "  'fack' 'pizzas' 'freplce' 'queers' 'critiquing' 'twat' 'dyke' 'ohmygod'\n",
      "  'retardedn' 'ussy' 'bitcheshard' 'mayag' 'plaza' 'animalpussy' 'sweeet'\n",
      "  'niggar' 'whites' 'haris']]\n"
     ]
    }
   ],
   "source": [
    "plot_coefficients(model,feature_names)"
   ]
  },
  {
   "cell_type": "code",
   "execution_count": null,
   "id": "1ed562ea",
   "metadata": {
    "papermill": {
     "duration": 0.008587,
     "end_time": "2022-06-30T17:30:48.491615",
     "exception": false,
     "start_time": "2022-06-30T17:30:48.483028",
     "status": "completed"
    },
    "tags": []
   },
   "outputs": [],
   "source": []
  },
  {
   "cell_type": "code",
   "execution_count": null,
   "id": "fa8ff6d6",
   "metadata": {},
   "outputs": [],
   "source": []
  }
 ],
 "metadata": {
  "kernelspec": {
   "display_name": "Python 3.10.5 64-bit",
   "language": "python",
   "name": "python3"
  },
  "language_info": {
   "codemirror_mode": {
    "name": "ipython",
    "version": 3
   },
   "file_extension": ".py",
   "mimetype": "text/x-python",
   "name": "python",
   "nbconvert_exporter": "python",
   "pygments_lexer": "ipython3",
   "version": "3.10.5"
  },
  "papermill": {
   "default_parameters": {},
   "duration": 164.139081,
   "end_time": "2022-06-30T17:30:49.323462",
   "environment_variables": {},
   "exception": null,
   "input_path": "__notebook__.ipynb",
   "output_path": "__notebook__.ipynb",
   "parameters": {},
   "start_time": "2022-06-30T17:28:05.184381",
   "version": "2.3.4"
  },
  "vscode": {
   "interpreter": {
    "hash": "a5f1fc3d8bb6bacbbdc5f49b5c5774a4069397d1257ff5b39febad1d78ca93be"
   }
  }
 },
 "nbformat": 4,
 "nbformat_minor": 5
}
